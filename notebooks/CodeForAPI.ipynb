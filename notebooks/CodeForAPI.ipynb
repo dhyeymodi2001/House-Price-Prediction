{
 "cells": [
  {
   "cell_type": "markdown",
   "metadata": {},
   "source": [
    "Import all Dependencies"
   ]
  },
  {
   "cell_type": "code",
   "execution_count": 1,
   "metadata": {},
   "outputs": [],
   "source": [
    "import joblib\n",
    "import pandas as pd\n",
    "from flask import Flask, request, jsonify\n",
    "from flask_cors import CORS  # Import CORS\n",
    "import numpy as np\n",
    "import logging"
   ]
  },
  {
   "cell_type": "markdown",
   "metadata": {},
   "source": [
    "Step 1 : Load the best model"
   ]
  },
  {
   "cell_type": "code",
   "execution_count": 2,
   "metadata": {},
   "outputs": [
    {
     "name": "stdout",
     "output_type": "stream",
     "text": [
      "RandomForestRegressor(min_samples_split=5, random_state=42)\n"
     ]
    }
   ],
   "source": [
    "# Load the saved model for testing\n",
    "data = joblib.load(\"../models/house_price_model.pkl\")\n",
    "print(data) # Print the loaded model to verify"
   ]
  },
  {
   "cell_type": "markdown",
   "metadata": {},
   "source": [
    "Step 2 : Flask API Setup"
   ]
  },
  {
   "cell_type": "code",
   "execution_count": 3,
   "metadata": {},
   "outputs": [
    {
     "data": {
      "text/plain": [
       "<flask_cors.extension.CORS at 0x2c8cb921010>"
      ]
     },
     "execution_count": 3,
     "metadata": {},
     "output_type": "execute_result"
    }
   ],
   "source": [
    "# Initialize Flask app\n",
    "app = Flask(__name__)\n",
    "\n",
    "# Enable CORS for all routes\n",
    "CORS(app)  \n"
   ]
  },
  {
   "cell_type": "code",
   "execution_count": 4,
   "metadata": {},
   "outputs": [],
   "source": [
    "# Configure logging\n",
    "logging.basicConfig(level=logging.INFO, format='%(asctime)s - %(levelname)s - %(message)s')"
   ]
  },
  {
   "cell_type": "code",
   "execution_count": 5,
   "metadata": {},
   "outputs": [
    {
     "name": "stderr",
     "output_type": "stream",
     "text": [
      "2025-03-08 04:32:25,102 - INFO - Model loaded successfully.\n"
     ]
    }
   ],
   "source": [
    "# Load the trained model\n",
    "try:\n",
    "    model = joblib.load(\"../models/house_price_model.pkl\")\n",
    "    logging.info(\"Model loaded successfully.\")\n",
    "except FileNotFoundError:\n",
    "    model = None\n",
    "    logging.error(\"Model file not found. Please train and save the model.\")\n",
    "\n",
    "# --- Prediction Endpoint ---\n",
    "\n",
    "@app.route('/predict', methods=['POST'])\n",
    "def predict():\n",
    "    if model is None:\n",
    "        return jsonify({\"error\": \"Model not found. Please train and save the model.\"}), 500\n",
    "\n",
    "    try:\n",
    "        data = request.get_json()\n",
    "        if not data or not isinstance(data, dict):\n",
    "            return jsonify({\"error\": \"Invalid or missing JSON input\"}), 400\n",
    "\n",
    "        expected_features = [\n",
    "    \"MSSubClass\",\n",
    "    \"MSZoning\",\n",
    "    \"LotFrontage\",\n",
    "    \"LotArea\",\n",
    "    \"Street\",\n",
    "    \"LotShape\",\n",
    "    \"LandContour\",\n",
    "    \"Utilities\",\n",
    "    \"LotConfig\",\n",
    "    \"LandSlope\",\n",
    "    \"Neighborhood\",\n",
    "    \"Condition1\",\n",
    "    \"Condition2\",\n",
    "    \"BldgType\",\n",
    "    \"HouseStyle\",\n",
    "    \"OverallQual\",\n",
    "    \"OverallCond\",\n",
    "    \"YearBuilt\",\n",
    "    \"YearRemodAdd\",\n",
    "    \"RoofStyle\",\n",
    "    \"RoofMatl\",\n",
    "    \"Exterior1st\",\n",
    "    \"Exterior2nd\",\n",
    "    \"MasVnrType\",\n",
    "    \"MasVnrArea\",\n",
    "    \"ExterQual\",\n",
    "    \"ExterCond\",\n",
    "    \"Foundation\",\n",
    "    \"BsmtQual\",\n",
    "    \"BsmtCond\",\n",
    "    \"BsmtExposure\",\n",
    "    \"BsmtFinType1\",\n",
    "    \"BsmtFinSF1\",\n",
    "    \"BsmtFinType2\",\n",
    "    \"BsmtFinSF2\",\n",
    "    \"BsmtUnfSF\",\n",
    "    \"TotalBsmtSF\",\n",
    "    \"Heating\",\n",
    "    \"HeatingQC\",\n",
    "    \"CentralAir\",\n",
    "    \"Electrical\",\n",
    "    \"1stFlrSF\",\n",
    "    \"2ndFlrSF\",\n",
    "    \"LowQualFinSF\",\n",
    "    \"GrLivArea\",\n",
    "    \"BsmtFullBath\",\n",
    "    \"BsmtHalfBath\",\n",
    "    \"FullBath\",\n",
    "    \"HalfBath\",\n",
    "    \"BedroomAbvGr\",\n",
    "    \"KitchenAbvGr\",\n",
    "    \"KitchenQual\",\n",
    "    \"TotRmsAbvGrd\",\n",
    "    \"Functional\",\n",
    "    \"Fireplaces\",\n",
    "    \"FireplaceQu\",\n",
    "    \"GarageType\",\n",
    "    \"GarageYrBlt\",\n",
    "    \"GarageFinish\",\n",
    "    \"GarageCars\",\n",
    "    \"GarageArea\",\n",
    "    \"GarageQual\",\n",
    "    \"GarageCond\",\n",
    "    \"PavedDrive\",\n",
    "    \"WoodDeckSF\",\n",
    "    \"OpenPorchSF\",\n",
    "    \"EnclosedPorch\",\n",
    "    \"3SsnPorch\",\n",
    "    \"ScreenPorch\",\n",
    "    \"PoolArea\",\n",
    "    \"MiscVal\",\n",
    "    \"MoSold\",\n",
    "    \"YrSold\",\n",
    "    \"SaleType\",\n",
    "    \"SaleCondition\",\n",
    "    \"TotalSF\"\n",
    "]\n",
    "\n",
    "\n",
    "        missing_features = [feat for feat in expected_features if feat not in data]\n",
    "        if missing_features:\n",
    "            return jsonify({\"error\": f\"Missing features: {missing_features}\"}), 400\n",
    "\n",
    "        # Add more robust input validation here (type checking, range checks)\n",
    "\n",
    "        input_data = pd.DataFrame([data], columns=expected_features)\n",
    "        prediction = model.predict(input_data)\n",
    "\n",
    "        return jsonify({\"predicted_price\": round(prediction[0], 2)})\n",
    "\n",
    "    except Exception as e:\n",
    "        logging.error(f\"An error occurred: {str(e)}\")\n",
    "        return jsonify({\"error\": str(e)}), 500"
   ]
  },
  {
   "cell_type": "markdown",
   "metadata": {},
   "source": [
    "Step 3 : API Execution"
   ]
  },
  {
   "cell_type": "code",
   "execution_count": null,
   "metadata": {},
   "outputs": [
    {
     "name": "stdout",
     "output_type": "stream",
     "text": [
      " * Serving Flask app '__main__'\n",
      " * Debug mode: off\n"
     ]
    },
    {
     "name": "stderr",
     "output_type": "stream",
     "text": [
      "2025-03-08 04:32:25,168 - INFO - \u001b[31m\u001b[1mWARNING: This is a development server. Do not use it in a production deployment. Use a production WSGI server instead.\u001b[0m\n",
      " * Running on all addresses (0.0.0.0)\n",
      " * Running on http://127.0.0.1:5000\n",
      " * Running on http://192.168.8.102:5000\n",
      "2025-03-08 04:32:25,171 - INFO - \u001b[33mPress CTRL+C to quit\u001b[0m\n",
      "2025-03-08 04:32:33,768 - INFO - 192.168.8.102 - - [08/Mar/2025 04:32:33] \"OPTIONS /predict HTTP/1.1\" 200 -\n",
      "2025-03-08 04:32:33,811 - INFO - 192.168.8.102 - - [08/Mar/2025 04:32:33] \"POST /predict HTTP/1.1\" 200 -\n"
     ]
    }
   ],
   "source": [
    "if __name__ == '__main__':\n",
    "    app.run(host='0.0.0.0', port=5000, debug=False) # change debug=False for production"
   ]
  }
 ],
 "metadata": {
  "kernelspec": {
   "display_name": "Python 3",
   "language": "python",
   "name": "python3"
  },
  "language_info": {
   "codemirror_mode": {
    "name": "ipython",
    "version": 3
   },
   "file_extension": ".py",
   "mimetype": "text/x-python",
   "name": "python",
   "nbconvert_exporter": "python",
   "pygments_lexer": "ipython3",
   "version": "3.13.1"
  }
 },
 "nbformat": 4,
 "nbformat_minor": 2
}
